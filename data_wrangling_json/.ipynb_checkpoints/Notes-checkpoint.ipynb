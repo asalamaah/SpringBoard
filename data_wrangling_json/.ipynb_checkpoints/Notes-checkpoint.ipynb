{
 "cells": [
  {
   "cell_type": "code",
   "execution_count": null,
   "metadata": {
   },
   "outputs": [],
   "source": [
    "#filled_world_bank_data_df = normalized_world_bank_data_df[normalized_world_bank_data_df.isin()]\n",
    "#cleaned_data = normalized_world_bank_data_df.replace(r'^$', 'missing', regex=True)\n",
    "#normalized_world_bank_data_df.replace({'name': r'^$'}, {'name': 'm'}, regex=True)\n",
    "#normalized_world_bank_data_df[normalized_world_bank_data_df.code == '11']\n",
    "#normalized_world_bank_data_df = normalized_world_bank_data_df.replace({'name':r'^$'}, np.nan, regex=True)\n",
    "#lookup_data = normalized_world_bank_data_df.drop_duplicates().dropna()\n",
    "#normalized_world_bank_data_df.name.fillna(lookup_data[normalized_world_bank_data_df.code])\n",
    "#x = pd.notnull(x['name'])\n",
    "#x = normalized_world_bank_data_df.sort_values(['code','name'])#(['code', 'name'], ascending=[1, 0])\n",
    "#x.name.fillna(method ='ffill',inplace = True)\n",
    "#normalized_world_bank_data_df.name.fillna(value=lookup_data['name'])\n",
    "#cleaned_data = normalized_world_bank_data_df.replace({'name': r'^$'}, lookup_data[lookup_data.code==normalized_world_bank_data_df.code].name, regex=True)\n",
    "#cleaned_data = normalized_world_bank_data_df.merge(lookup_data[['code', 'name']], on=['code'])\n",
    "#cleaned_data"
   ]
  }
 ],
 "metadata": {
  "kernelspec": {
   "display_name": "Python 2",
   "language": "python",
   "name": "python2"
  },
  "language_info": {
   "codemirror_mode": {
    "name": "ipython",
    "version": 2
   },
   "file_extension": ".py",
   "mimetype": "text/x-python",
   "name": "python",
   "nbconvert_exporter": "python",
   "pygments_lexer": "ipython2",
   "version": "2.7.11"
  }
 },
 "nbformat": 4,
 "nbformat_minor": 0
}
